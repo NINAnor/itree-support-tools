{
 "cells": [
  {
   "cell_type": "markdown",
   "metadata": {},
   "source": [
    "<table class=\"ee-notebook-buttons\" align=\"left\">\n",
    "    <td><a target=\"_blank\"  href=\"https://github.com/NINAnor/urban-treeDetection\"><img width=32px src=\"https://www.tensorflow.org/images/GitHub-Mark-32px.png\" style=\"filter: invert(100%)\"/> View source on GitHub</a></td>\n",
    "    <td><a target=\"_blank\"  href=\"https://drive.google.com/drive/folders/1mEQBfa-tVViVWFt27XzUP4Wr19u1iuZm\"><img src=\"https://www.tensorflow.org/images/colab_logo_32px.png\" /> Run in Google Colab</a></td>\n",
    "</table>"
   ]
  },
  {
   "cell_type": "markdown",
   "metadata": {},
   "source": [
    "# Tree Crown Project | Extrapolating Ecosystem Service Values\n",
    "\n",
    "**Author:** Willeke A'Campo\n",
    "\n",
    "**Description:** \n",
    "\n",
    "\n",
    "\n",
    "This notebook shows the statistical results of extrapolating the regulating ecosystem service values of trees in the Bodø municipality using a Random Forest regression model. The model is trained on in situ tree data from the Bodø municipality, which contain i-Tree Eco values for carbon storage, carbon sequestration, avoided runoff, and avoided air pollution. The model is then used to predict the regulating ecosystem service values of all trees in the Bodø municipality.\n",
    "\n",
    "Resulting map products can be viewed online: [Bytræratlas Bodø](https://experience.arcgis.com/experience/5191adc2c4b34658aea227c9853c6ebb)\n",
    "\n",
    "\n",
    "** UPDATE IMAGE LINKS **"
   ]
  },
  {
   "cell_type": "code",
   "execution_count": null,
   "metadata": {},
   "outputs": [],
   "source": []
  }
 ],
 "metadata": {
  "language_info": {
   "name": "python"
  }
 },
 "nbformat": 4,
 "nbformat_minor": 2
}
