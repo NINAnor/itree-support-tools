{
 "cells": [
  {
   "cell_type": "markdown",
   "metadata": {},
   "source": [
    "# Visualize the 3-30-300 rule on a map. \n",
    "\n",
    "[![colab](https://colab.research.google.com/assets/colab-badge.svg)]() [![github](https://img.shields.io/badge/GitHub-View%20on%20GitHub-blue?logo=github)]()\n",
    "\n",
    "**Author**: Willeke A'Campo\n",
    "\n",
    "**Description:** This notebooks shows the results of the 3-30-300 rule on a map for Kristiansand Municipality in Norway. \n",
    "\n"
   ]
  },
  {
   "cell_type": "markdown",
   "metadata": {},
   "source": [
    "### Map the indicators for the 3-30-300-rule"
   ]
  },
  {
   "cell_type": "code",
   "execution_count": null,
   "metadata": {},
   "outputs": [],
   "source": [
    "import os\n",
    "import leafmap\n",
    "import pandas as pd"
   ]
  },
  {
   "cell_type": "code",
   "execution_count": null,
   "metadata": {},
   "outputs": [],
   "source": [
    "municipality = \"kristiansand\"\n",
    "src_crs = \"EPSG:25832\"\n",
    "project_dir = os.getcwd()\n",
    "\n",
    "input_file = os.path.join(project_dir, \"data\", municipality, \"processed\", f\"{municipality}_district_3-30-300_stat.parquet\" )\n",
    "# add layers to gdf for mapping\n",
    "gdf_mapping = leafmap.read_parquet(\n",
    "    input_file, \n",
    "    return_type='gdf', \n",
    "    src_crs= src_crs , \n",
    "    dst_crs=\"EPSG:4326\"\n",
    "    )\n",
    "\n",
    "# Calculate the center of the study_area GeoDataFrame\n",
    "center = gdf_mapping.geometry.unary_union.centroid\n",
    "\n",
    "display(gdf_mapping[[\n",
    "    \"kommunenavn\",\"grunnkretsnummer\", \"grunnkretsnavn\", \n",
    "    \"n_trees\", \"n_bldg\", \"n_res_bldg\", \n",
    "    \"n_trees_near_rbldg\",\"perc_near_rbldg\",\"labels_near_rbldg\",\n",
    "    \"a_crown\", \"perc_crown\", \"labels_perc_crown\",\n",
    "    \"n_res_bldg_near_gs\",\"perc_near_gs\", \"labels_near_gs\",\n",
    "    \"a_open_space\", \"a_private_space\", \"a_public_space\"\n",
    "    ]])"
   ]
  },
  {
   "cell_type": "markdown",
   "metadata": {},
   "source": [
    "**Rule 3 | all residents should be able to see at least 3 trees from their home.**"
   ]
  },
  {
   "cell_type": "code",
   "execution_count": null,
   "metadata": {},
   "outputs": [],
   "source": [
    "m = leafmap.Map()\n",
    "m.set_center(center.x, center.y, zoom=13)\n",
    "m.add_basemap(\"CartoDB.Positron\")\n",
    "m.add_data(\n",
    "    gdf_mapping, column='perc_near_rbldg', scheme='Quantiles', cmap='Greens', legend_title='Number of Trees near Residential Buildings'\n",
    ")\n",
    "m"
   ]
  },
  {
   "cell_type": "markdown",
   "metadata": {},
   "source": [
    "**Rule 30: all neighbourhoods should have 30% tree canopy cover.**"
   ]
  },
  {
   "cell_type": "code",
   "execution_count": null,
   "metadata": {},
   "outputs": [],
   "source": [
    "m = leafmap.Map()\n",
    "m.set_center(center.x, center.y, zoom=13)\n",
    "m.add_basemap(\"CartoDB.Positron\")\n",
    "m.add_data(\n",
    "    gdf_mapping, column='perc_crown', scheme='Quantiles', cmap='Greens', legend_title='Crown Area (%)'\n",
    ")\n",
    "m"
   ]
  },
  {
   "cell_type": "markdown",
   "metadata": {},
   "source": [
    "**Rule 300:  all residents should be able to access a green area within 300 m from their home.**"
   ]
  },
  {
   "cell_type": "code",
   "execution_count": null,
   "metadata": {},
   "outputs": [],
   "source": [
    "gdf_mapping_gs = gdf_mapping.dropna(subset=['n_res_bldg_near_gs_norm'])\n",
    "m = leafmap.Map()\n",
    "m.set_center(center.x, center.y, zoom=13)\n",
    "m.add_basemap(\"CartoDB.Positron\")\n",
    "m.add_data(\n",
    "    gdf_mapping_gs, column='perc_near_gs', scheme='Quantiles', cmap='Greens', legend_title='Number of Residential Buildings near green spaces'\n",
    ")\n",
    "m"
   ]
  }
 ],
 "metadata": {
  "kernelspec": {
   "display_name": "Python 3",
   "language": "python",
   "name": "python3"
  },
  "language_info": {
   "codemirror_mode": {
    "name": "ipython",
    "version": 3
   },
   "file_extension": ".py",
   "mimetype": "text/x-python",
   "name": "python",
   "nbconvert_exporter": "python",
   "pygments_lexer": "ipython3",
   "version": "3.10.12"
  }
 },
 "nbformat": 4,
 "nbformat_minor": 2
}
