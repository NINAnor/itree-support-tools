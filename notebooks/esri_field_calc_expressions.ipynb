{
 "cells": [
  {
   "cell_type": "code",
   "execution_count": null,
   "metadata": {},
   "outputs": [],
   "source": [
    "def naturtype(naturtypeKode):\n",
    "    if naturtypeKode == \"D12\":\n",
    "        return \"storeGamleTrær\"\n",
    "    elif naturtypeKode == \"D1201\":\n",
    "        return \"ikkeSkjøttetTre\"\n",
    "    elif naturtypeKode == \"D1202\":\n",
    "        return \"skjøttetTre\"\n",
    "    elif naturtypeKode == \"D1203\":\n",
    "        return \"hultTre\"\n",
    "    elif naturtypeKode == \"D1204\":\n",
    "        return \"gammeltTre\"\n",
    "    elif naturtypeKode == \"D1216\":\n",
    "        return \"rovfugltueOgFugleknaus\"\n",
    "    elif naturtypeKode == \"D1207\":\n",
    "        return \"eik\"\n",
    "    elif naturtypeKode == \"D1208\":\n",
    "        return \"alm\"\n",
    "    elif naturtypeKode == \"D1209\":\n",
    "        return \"ask\"\n",
    "    elif naturtypeKode == \"D1210\":\n",
    "        return \"lind\"\n",
    "    elif naturtypeKode == \"D1211\":\n",
    "        return \"bøk\"\n",
    "    elif naturtypeKode == \"D1212\":\n",
    "        return \"spisslønn\"\n",
    "    elif naturtypeKode == \"D1213\":\n",
    "        return \"svartor\"\n",
    "    elif naturtypeKode == \"D1214\":\n",
    "        return \"osp\"\n",
    "    elif naturtypeKode == \"D1215\":\n",
    "        return \"selje\"\n",
    "    elif naturtypeKode == \"D1217\":\n",
    "        return \"bjørk\"\n",
    "    elif naturtypeKode == \"D1218\":\n",
    "        return \"barlind\"\n",
    "    elif naturtypeKode == \"D1219\":\n",
    "        return \"furu\"\n",
    "    elif naturtypeKode == \"D1220\":\n",
    "        return \"andreTreslag\"\n",
    "    elif naturtypeKode == \"UN03\":\n",
    "        return \"Hule eiker\"\n",
    "    elif naturtypeKode == \"ntyp_C01\":\n",
    "        return \"Hule eiker\"\n",
    "    elif naturtypeKode == \"NNF_UN_005\":\n",
    "        return \"Hule eiker\"\n",
    "    else:\n",
    "        return None"
   ]
  },
  {
   "cell_type": "code",
   "execution_count": null,
   "metadata": {},
   "outputs": [],
   "source": [
    "def treType(area):\n",
    "    if area >= 800:\n",
    "        return \"byskog\"\n",
    "    else:\n",
    "        return \"enkeltTre\""
   ]
  }
 ],
 "metadata": {
  "language_info": {
   "name": "python"
  }
 },
 "nbformat": 4,
 "nbformat_minor": 2
}
