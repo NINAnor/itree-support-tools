{
 "cells": [
  {
   "cell_type": "code",
   "execution_count": null,
   "metadata": {},
   "outputs": [],
   "source": [
    "def naturtype(naturtypeKode):\n",
    "    if naturtypeKode == \"D12\":\n",
    "        return \"storeGamleTrær\"\n",
    "    elif naturtypeKode == \"D1201\":\n",
    "        return \"ikkeSkjøttetTre\"\n",
    "    elif naturtypeKode == \"D1202\":\n",
    "        return \"skjøttetTre\"\n",
    "    elif naturtypeKode == \"D1203\":\n",
    "        return \"hultTre\"\n",
    "    elif naturtypeKode == \"D1204\":\n",
    "        return \"gammeltTre\"\n",
    "    elif naturtypeKode == \"D1216\":\n",
    "        return \"rovfugltueOgFugleknaus\"\n",
    "    elif naturtypeKode == \"D1207\":\n",
    "        return \"eik\"\n",
    "    elif naturtypeKode == \"D1208\":\n",
    "        return \"alm\"\n",
    "    elif naturtypeKode == \"D1209\":\n",
    "        return \"ask\"\n",
    "    elif naturtypeKode == \"D1210\":\n",
    "        return \"lind\"\n",
    "    elif naturtypeKode == \"D1211\":\n",
    "        return \"bøk\"\n",
    "    elif naturtypeKode == \"D1212\":\n",
    "        return \"spisslønn\"\n",
    "    elif naturtypeKode == \"D1213\":\n",
    "        return \"svartor\"\n",
    "    elif naturtypeKode == \"D1214\":\n",
    "        return \"osp\"\n",
    "    elif naturtypeKode == \"D1215\":\n",
    "        return \"selje\"\n",
    "    elif naturtypeKode == \"D1217\":\n",
    "        return \"bjørk\"\n",
    "    elif naturtypeKode == \"D1218\":\n",
    "        return \"barlind\"\n",
    "    elif naturtypeKode == \"D1219\":\n",
    "        return \"furu\"\n",
    "    elif naturtypeKode == \"D1220\":\n",
    "        return \"andreTreslag\"\n",
    "    elif naturtypeKode == \"UN03\":\n",
    "        return \"Hule eiker\"\n",
    "    elif naturtypeKode == \"ntyp_C01\":\n",
    "        return \"Hule eiker\"\n",
    "    elif naturtypeKode == \"NNF_UN_005\":\n",
    "        return \"Hule eiker\"\n",
    "    else:\n",
    "        return None"
   ]
  },
  {
   "cell_type": "code",
   "execution_count": null,
   "metadata": {},
   "outputs": [],
   "source": [
    "def treType(area):\n",
    "    if area >= 800:\n",
    "        return \"byskog\"\n",
    "    else:\n",
    "        return \"enkeltTre\""
   ]
  },
  {
   "cell_type": "code",
   "execution_count": null,
   "metadata": {},
   "outputs": [],
   "source": [
    "# AGOL create Map Tile Package\n",
    "\n",
    "arcpy.management.CreateMapTilePackage(\n",
    "    in_map=\"Trekrone høydemodell\",\n",
    "    service_type=\"ONLINE\",\n",
    "    output_file=r\"P:\\152022_itree_eco_ifront_synliggjore_trars_rolle_i_okosyst\\03_leveranser\\Baerum\\agol_files\\baerum_trekronehoydemodell.tpkx\",\n",
    "    format_type=\"PNG24\",\n",
    "    level_of_detail=19,\n",
    "    service_file=None,\n",
    "    summary=\"\",\n",
    "    tags=\"baerum, trekroner, trekronehøydemodell\",\n",
    "    extent='239506.297966199 6642540.69288157 257169.550084233 6659320.14915086 PROJCS[\"ETRS_1989_UTM_Zone_33N\",GEOGCS[\"GCS_ETRS_1989\",DATUM[\"D_ETRS_1989\",SPHEROID[\"GRS_1980\",6378137.0,298.257222101]],PRIMEM[\"Greenwich\",0.0],UNIT[\"Degree\",0.0174532925199433]],PROJECTION[\"Transverse_Mercator\"],PARAMETER[\"False_Easting\",500000.0],PARAMETER[\"False_Northing\",0.0],PARAMETER[\"Central_Meridian\",15.0],PARAMETER[\"Scale_Factor\",0.9996],PARAMETER[\"Latitude_Of_Origin\",0.0],UNIT[\"Meter\",1.0]]',\n",
    "    compression_quality=75,\n",
    "    package_type=\"tpkx\",\n",
    "    min_level_of_detail=12,\n",
    "    area_of_interest=r\"P:\\152022_itree_eco_ifront_synliggjore_trars_rolle_i_okosyst\\03_leveranser\\Baerum\\baerum_admindata.gdb\\analyseomrade_buffer200\",\n",
    "    create_multiple_packages=None,\n",
    "    output_folder=None\n",
    ")"
   ]
  },
  {
   "cell_type": "code",
   "execution_count": null,
   "metadata": {},
   "outputs": [],
   "source": [
    "def min_values_to_null(value):\n",
    "  if value < 0:\n",
    "    return 0\n",
    "  else:\n",
    "    return value"
   ]
  },
  {
   "cell_type": "code",
   "execution_count": null,
   "metadata": {},
   "outputs": [],
   "source": [
    "def value_if_null(value, new_value):\n",
    "    if value == None:\n",
    "        return new_value\n",
    "    else:\n",
    "        return value\n",
    "    "
   ]
  }
 ],
 "metadata": {
  "language_info": {
   "name": "python"
  }
 },
 "nbformat": 4,
 "nbformat_minor": 2
}
