{
 "cells": [
  {
   "cell_type": "code",
   "execution_count": null,
   "metadata": {},
   "outputs": [],
   "source": [
    "def naturtype(naturtypeKode):\n",
    "    if naturtypeKode == \"D12\":\n",
    "        return \"storeGamleTrær\"\n",
    "    elif naturtypeKode == \"D1201\":\n",
    "        return \"ikkeSkjøttetTre\"\n",
    "    elif naturtypeKode == \"D1202\":\n",
    "        return \"skjøttetTre\"\n",
    "    elif naturtypeKode == \"D1203\":\n",
    "        return \"hultTre\"\n",
    "    elif naturtypeKode == \"D1204\":\n",
    "        return \"gammeltTre\"\n",
    "    elif naturtypeKode == \"D1216\":\n",
    "        return \"rovfugltueOgFugleknaus\"\n",
    "    elif naturtypeKode == \"D1207\":\n",
    "        return \"eik\"\n",
    "    elif naturtypeKode == \"D1208\":\n",
    "        return \"alm\"\n",
    "    elif naturtypeKode == \"D1209\":\n",
    "        return \"ask\"\n",
    "    elif naturtypeKode == \"D1210\":\n",
    "        return \"lind\"\n",
    "    elif naturtypeKode == \"D1211\":\n",
    "        return \"bøk\"\n",
    "    elif naturtypeKode == \"D1212\":\n",
    "        return \"spisslønn\"\n",
    "    elif naturtypeKode == \"D1213\":\n",
    "        return \"svartor\"\n",
    "    elif naturtypeKode == \"D1214\":\n",
    "        return \"osp\"\n",
    "    elif naturtypeKode == \"D1215\":\n",
    "        return \"selje\"\n",
    "    elif naturtypeKode == \"D1217\":\n",
    "        return \"bjørk\"\n",
    "    elif naturtypeKode == \"D1218\":\n",
    "        return \"barlind\"\n",
    "    elif naturtypeKode == \"D1219\":\n",
    "        return \"furu\"\n",
    "    elif naturtypeKode == \"D1220\":\n",
    "        return \"andreTreslag\"\n",
    "    elif naturtypeKode == \"UN03\":\n",
    "        return \"Hule eiker\"\n",
    "    elif naturtypeKode == \"ntyp_C01\":\n",
    "        return \"Hule eiker\"\n",
    "    elif naturtypeKode == \"NNF_UN_005\":\n",
    "        return \"Hule eiker\"\n",
    "    else:\n",
    "        return None"
   ]
  },
  {
   "cell_type": "code",
   "execution_count": null,
   "metadata": {},
   "outputs": [],
   "source": [
    "def treType(area):\n",
    "    if area >= 800:\n",
    "        return \"byskog\"\n",
    "    else:\n",
    "        return \"enkeltTre\""
   ]
  },
  {
   "cell_type": "code",
   "execution_count": null,
   "metadata": {},
   "outputs": [],
   "source": [
    "def min_values_to_null(value):\n",
    "  if value < 0:\n",
    "    return 0\n",
    "  else:\n",
    "    return value"
   ]
  },
  {
   "cell_type": "code",
   "execution_count": null,
   "metadata": {},
   "outputs": [],
   "source": [
    "def value_if_null(value, new_value):\n",
    "    if value == None:\n",
    "        return new_value\n",
    "    else:\n",
    "        return value\n",
    "    "
   ]
  },
  {
   "cell_type": "code",
   "execution_count": null,
   "metadata": {},
   "outputs": [],
   "source": [
    "def calculate_radius(area):\n",
    "  \"\"\"Calculates the radius of a circle polygon.\n",
    "\n",
    "  Args:\n",
    "    shape: A polygon shape object.\n",
    "\n",
    "  Returns:\n",
    "    The radius of the circle polygon in the same units as the shape.\n",
    "  \"\"\"\n",
    "\n",
    "  radius = math.sqrt(area / math.pi)\n",
    "  return radius\n",
    "\n",
    "calculate_radius(!Shape_Area!)"
   ]
  },
  {
   "cell_type": "code",
   "execution_count": null,
   "metadata": {},
   "outputs": [],
   "source": [
    "# Krone ID\n",
    "\"b_\" + str(!nb_code!) + \"_\" + str(!OBJECTID_1!)"
   ]
  },
  {
   "cell_type": "code",
   "execution_count": null,
   "metadata": {},
   "outputs": [],
   "source": [
    "# Calculate DBH\n",
    "arcpy.AddMessage(\"DBH...\".format(year))\n",
    "arcpy.CalculateField_management(v_tree_point, \"DBH\", \"4.04*!height_total_tree!**0.82\", \"PYTHON_9.3\")"
   ]
  },
  {
   "cell_type": "code",
   "execution_count": null,
   "metadata": {},
   "outputs": [],
   "source": [
    "# BODO SPECIFIC HEIGHT\n",
    "\"\"\"def calculate_total_tree(tree_height_laser, height_insitu,dbh):\n",
    "    if tree_height_laser != None:\n",
    "        return tree_height_laser\n",
    "    elif height_insitu == \"0-5\":\n",
    "        return 5\n",
    "    elif height_insitu == \"05-10\":\n",
    "        return 10\n",
    "    elif height_insitu == \"10-15\":\n",
    "        return 15\n",
    "    elif height_insitu == \"15-20\":\n",
    "        return 20\n",
    "    elif height_insitu == \"20-25\":\n",
    "        return 25\n",
    "    elif dbh != None:\n",
    "         return (dbh*1.22)/(4.04**1.22)\n",
    "    else:\n",
    "        return None\"\"\"\n",
    "        \n",
    "arcpy.CalculateField_management(\n",
    "        in_table=v_crown_path,\n",
    "        field=\"height_total_tree\",\n",
    "        experssion=\"calculate_total_tree(!height_insitu!)\",\n",
    "        code_block=codeblock,\n",
    "        expression_type=\"PYTHON_9.3\",\n",
    "    )"
   ]
  }
 ],
 "metadata": {
  "language_info": {
   "name": "python"
  }
 },
 "nbformat": 4,
 "nbformat_minor": 2
}
