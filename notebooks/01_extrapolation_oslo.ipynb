{
 "cells": [
  {
   "cell_type": "markdown",
   "metadata": {},
   "source": [
    "<table class=\"ee-notebook-buttons\" align=\"left\">\n",
    "    <td><a target=\"_blank\"  href=\"https://github.com/NINAnor/urban-treeDetection\"><img width=32px src=\"https://www.tensorflow.org/images/GitHub-Mark-32px.png\" style=\"filter: invert(100%)\"/> View source on GitHub</a></td>\n",
    "    <td><a target=\"_blank\"  href=\"https://drive.google.com/drive/folders/1mEQBfa-tVViVWFt27XzUP4Wr19u1iuZm\"><img src=\"https://www.tensorflow.org/images/colab_logo_32px.png\" /> Run in Google Colab</a></td>\n",
    "</table>"
   ]
  },
  {
   "cell_type": "markdown",
   "metadata": {},
   "source": [
    "# Tree Crown Project | Extrapolating Ecosystem Service Values\n",
    "\n",
    "**Author:** Willeke A'Campo\n",
    "\n",
    "**Description:** \n",
    "\n",
    "This notebook shows the statistical results of extrapolating the regulating ecosystem service values of trees in the Oslo municipality using a Random Forest regression model. The model is trained on the i-Tree Eco trees within Oslo's urban tree database (registerte_traer_BYM_2018) and thereafter used to predict the regulating ecosystem service values for all trees within Oslo's building zone extent.\n",
    "\n",
    "The following regulating ecosystem services are predicted: \n",
    "\n",
    "- carbon storage (kg)\n",
    "- carbon sequestration (kg/year)\n",
    "- avoided runoff (m3/year)\n",
    "- avoided air pollution (g/year)\n",
    "- total regulating ecosystem benefits (NKr/year)\n",
    "\n",
    "The predictor variables used in the model are:\n",
    "- tree species (Norwegian name)\n",
    "- tree height (m)\n",
    "- crown area (m2)\n",
    "- pollution zone (zone 1, 2 or 3)\n",
    "\n",
    "The results are visualized in a map product, which can be viewed online: [Bytræratlas Oslo](https://experience.arcgis.com/experience/5191adc2c4b34658aea227c9853c6ebb)"
   ]
  },
  {
   "cell_type": "code",
   "execution_count": null,
   "metadata": {},
   "outputs": [],
   "source": []
  }
 ],
 "metadata": {
  "language_info": {
   "name": "python"
  }
 },
 "nbformat": 4,
 "nbformat_minor": 2
}
